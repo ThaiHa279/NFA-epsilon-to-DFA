{
 "cells": [
  {
   "cell_type": "code",
   "execution_count": 1,
   "id": "bf491bb8",
   "metadata": {},
   "outputs": [],
   "source": [
    "import tkinter\n",
    "import tkinter.messagebox\n",
    "import customtkinter\n",
    "from tkinter import *"
   ]
  },
  {
   "cell_type": "code",
   "execution_count": 2,
   "id": "8e3d6177",
   "metadata": {},
   "outputs": [],
   "source": [
    "customtkinter.set_appearance_mode(\"System\")  # Modes: \"System\" (standard), \"Dark\", \"Light\"\n",
    "customtkinter.set_default_color_theme(\"blue\")  # Themes: \"blue\" (standard), \"green\", \"dark-blue\""
   ]
  },
  {
   "cell_type": "code",
   "execution_count": 3,
   "id": "c566ffab",
   "metadata": {},
   "outputs": [],
   "source": [
    "class App(customtkinter.CTk):\n",
    "\n",
    "    WIDTH = 780\n",
    "    HEIGHT = 560\n",
    "\n",
    "    def __init__(self):\n",
    "        super().__init__()\n",
    "        self.title(\"Convert NFA-epsilon to DFA\")\n",
    "        self.geometry(f\"{App.WIDTH}x{App.HEIGHT}\")\n",
    "        self.protocol(\"WM_DELETE_WINDOW\", self.on_closing)  # call .on_closing() when app gets closed\n",
    "        \n",
    "        # ============ create frames ============\n",
    "\n",
    "        # configure grid layout\n",
    "        self.grid_columnconfigure(1, weight=1)\n",
    "        self.grid_rowconfigure(1, weight=1)\n",
    "        \n",
    "        self.frame_bot = customtkinter.CTkFrame(master=self, width=740, height=250)\n",
    "        self.frame_bot.grid(row=1, column=0, sticky=\"nswe\", padx=20, pady=10)\n",
    "    \n",
    "        self.frame_top = customtkinter.CTkFrame(master=self)\n",
    "        self.frame_top.grid(row=0, column=0, sticky=\"nswe\", padx=20, pady=10)\n",
    "        \n",
    "        self.frame_left = customtkinter.CTkFrame(master=self.frame_top, width=350, height=300)\n",
    "        self.frame_left.grid(row=0, column=0, sticky=\"nswe\", padx=10, pady=10)\n",
    "\n",
    "        self.frame_right = customtkinter.CTkFrame(master=self.frame_top,width=345)\n",
    "        self.frame_right.grid(row=0, column=1, sticky=\"nswe\", padx=10, pady=10)\n",
    "        \n",
    "        # =========== frame bot =================\n",
    "        self.frame_bot_1 = customtkinter.CTkFrame(master=self.frame_bot, width=540, height=350)\n",
    "        self.frame_bot_1.grid(row=1, column=0, sticky=\"nswe\", padx=20, pady=10)\n",
    "        \n",
    "        self.label_1 = customtkinter.CTkLabel(master=self.frame_bot_1,\n",
    "                                              text=\"Input NFA-epsilon\",\n",
    "                                              text_font=(\"Roboto Medium\", -15))  # font name and size in px\n",
    "        self.label_1.grid(row=1, column=0,sticky=\"nw\", pady=5, padx=5)\n",
    "        \n",
    "        self.entry1 = customtkinter.CTkEntry(master=self.frame_bot_1,\n",
    "                                            width=200,\n",
    "                                            placeholder_text=\"State\")\n",
    "        self.entry1.grid(row=2, column=0, pady=5, padx=10, sticky=\"we\")\n",
    "        self.entry2 = customtkinter.CTkEntry(master=self.frame_bot_1,\n",
    "                                            width=200,\n",
    "                                            placeholder_text=\"Alphabets\")\n",
    "        self.entry2.grid(row=3, column=0, pady=5, padx=10, sticky=\"we\")\n",
    "        \n",
    "        self.entry3 = customtkinter.CTkEntry(master=self.frame_bot_1,\n",
    "                                            width=200,\n",
    "                                            placeholder_text=\"Start\")\n",
    "        self.entry3.grid(row=2, column=1, pady=5, padx=10, sticky=\"we\")\n",
    "        \n",
    "        self.entry4 = customtkinter.CTkEntry(master=self.frame_bot_1,\n",
    "                                            width=200,\n",
    "                                            placeholder_text=\"Final\")\n",
    "        self.entry4.grid(row=3, column=1, pady=10, padx=10, sticky=\"we\")\n",
    "        self.button_1 = customtkinter.CTkButton(master=self.frame_bot_1,\n",
    "                                                text=\"NFA-e\",\n",
    "                                                border_width=2,  # <- custom border_width\n",
    "                                                fg_color=None,  # <- no fg_color\n",
    "                                                command=self.button_event)\n",
    "        self.button_1.grid(row=4, column=0, pady=10, padx=10, sticky=\"nswe\")\n",
    "        self.button_2 = customtkinter.CTkButton(master=self.frame_bot_1,\n",
    "                                                text=\"DFA\",\n",
    "                                                border_width=2,\n",
    "                                                command=self.button_event)\n",
    "        self.button_2.grid(row=4, column=1, pady=10, padx=10, sticky=\"nswe\")\n",
    "\n",
    "        self.inputtxt = tkinter.Text(self.frame_bot,\n",
    "                   height = 8,\n",
    "                   width = 25)\n",
    "        self.inputtxt.insert('end',\" Transitons\")\n",
    "        self.inputtxt.configure(font = \"Roboto\")\n",
    "        self.inputtxt.grid(row=1, column=2, pady=5, padx=10)\n",
    "    \n",
    "    def on_closing(self, event=0):\n",
    "        self.destroy()\n",
    "        \n",
    "    def button_event(self):\n",
    "        print(\"Button pressed\")\n"
   ]
  },
  {
   "cell_type": "code",
   "execution_count": 4,
   "id": "bc2d54a9",
   "metadata": {},
   "outputs": [],
   "source": [
    "if __name__ == \"__main__\":\n",
    "    app = App()\n",
    "    app.mainloop()"
   ]
  },
  {
   "cell_type": "code",
   "execution_count": null,
   "id": "d6166d8d",
   "metadata": {},
   "outputs": [],
   "source": []
  }
 ],
 "metadata": {
  "kernelspec": {
   "display_name": "Python 3 (ipykernel)",
   "language": "python",
   "name": "python3"
  },
  "language_info": {
   "codemirror_mode": {
    "name": "ipython",
    "version": 3
   },
   "file_extension": ".py",
   "mimetype": "text/x-python",
   "name": "python",
   "nbconvert_exporter": "python",
   "pygments_lexer": "ipython3",
   "version": "3.10.8"
  }
 },
 "nbformat": 4,
 "nbformat_minor": 5
}
